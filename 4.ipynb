{
 "cells": [
  {
   "cell_type": "code",
   "execution_count": 2,
   "metadata": {},
   "outputs": [],
   "source": [
    "import numpy as np\n",
    "import pickle\n",
    "from matplotlib import pyplot as plt"
   ]
  },
  {
   "cell_type": "markdown",
   "metadata": {},
   "source": [
    "# 4.1 - Principal Component Analysis"
   ]
  },
  {
   "cell_type": "code",
   "execution_count": null,
   "metadata": {},
   "outputs": [],
   "source": [
    "import cv2 as cv\n",
    "from math import atan2, cos, sin, sqrt, pi\n",
    "import numpy as np\n",
    "from PIL import Image\n",
    "import matplotlib.pyplot as plt\n",
    "import os\n",
    "from skimage.metrics import structural_similarity as ssim\n",
    "from sklearn.metrics import mean_squared_error\n",
    "def convert_from_cv2_to_image(img: np.ndarray) -> Image:\n",
    "    # return Image.fromarray(img)\n",
    "    return Image.fromarray(cv.cvtColor(img, cv.COLOR_BGR2RGB))\n",
    "\n",
    "\n",
    "def convert_from_image_to_cv2(img: Image) -> np.ndarray:\n",
    "    # return np.asarray(img)\n",
    "    return cv.cvtColor(np.array(img), cv.COLOR_RGB2BGR)\n",
    "def drawAxis(img, p_, q_, color, scale):\n",
    "  p = list(p_)\n",
    "  q = list(q_)\n",
    " \n",
    "  ## [visualization1]\n",
    "  angle = atan2(p[1] - q[1], p[0] - q[0]) # angle in radians\n",
    "  hypotenuse = sqrt((p[1] - q[1]) * (p[1] - q[1]) + (p[0] - q[0]) * (p[0] - q[0]))\n",
    " \n",
    "  # Here we lengthen the arrow by a factor of scale\n",
    "  q[0] = p[0] - scale * hypotenuse * cos(angle)\n",
    "  q[1] = p[1] - scale * hypotenuse * sin(angle)\n",
    "  cv.line(img, (int(p[0]), int(p[1])), (int(q[0]), int(q[1])), color, 3, cv.LINE_AA)\n",
    " \n",
    "  # create the arrow hooks\n",
    "  p[0] = q[0] + 9 * cos(angle + pi / 4)\n",
    "  p[1] = q[1] + 9 * sin(angle + pi / 4)\n",
    "  cv.line(img, (int(p[0]), int(p[1])), (int(q[0]), int(q[1])), color, 3, cv.LINE_AA)\n",
    " \n",
    "  p[0] = q[0] + 9 * cos(angle - pi / 4)\n",
    "  p[1] = q[1] + 9 * sin(angle - pi / 4)\n",
    "  cv.line(img, (int(p[0]), int(p[1])), (int(q[0]), int(q[1])), color, 3, cv.LINE_AA)\n",
    "  ## [visualization1]\n",
    " \n",
    "def getOrientation(pts, img):\n",
    "  ## [pca]\n",
    "  # Construct a buffer used by the pca analysis\n",
    "  sz = len(pts)\n",
    "  data_pts = np.empty((sz, 2), dtype=np.float64)\n",
    "  for i in range(data_pts.shape[0]):\n",
    "    data_pts[i,0] = pts[i,0,0]\n",
    "    data_pts[i,1] = pts[i,0,1]\n",
    " \n",
    "  # Perform PCA analysis\n",
    "  mean = np.empty((0))\n",
    "  mean, eigenvectors, eigenvalues = cv.PCACompute2(data_pts, mean)\n",
    " \n",
    "  # Store the center of the object\n",
    "  cntr = (int(mean[0,0]), int(mean[0,1]))\n",
    "  ## [pca]\n",
    " \n",
    "  ## [visualization]\n",
    "  # Draw the principal components\n",
    "  cv.circle(img, cntr, 3, (255, 0, 255), 2)\n",
    "  p1 = (cntr[0] + 0.02 * eigenvectors[0,0] * eigenvalues[0,0], cntr[1] + 0.02 * eigenvectors[0,1] * eigenvalues[0,0])\n",
    "  p2 = (cntr[0] - 0.02 * eigenvectors[1,0] * eigenvalues[1,0], cntr[1] - 0.02 * eigenvectors[1,1] * eigenvalues[1,0])\n",
    "  drawAxis(img, cntr, p1, (255, 255, 0), 1)\n",
    "  drawAxis(img, cntr, p2, (0, 0, 255), 5)\n",
    " \n",
    "  angle = atan2(eigenvectors[0,1], eigenvectors[0,0]) # orientation in radians\n",
    "  ## [visualization]\n",
    " \n",
    "  # Label with the rotation angle\n",
    "  label = \"  Rotation Angle: \" + str(-int(np.rad2deg(angle)) - 90) + \" degrees\"\n",
    "  print(label)\n",
    "  textbox = cv.rectangle(img, (cntr[0], cntr[1]-25), (cntr[0] + 250, cntr[1] + 10), (255,255,255), -1)\n",
    "  cv.putText(img, label, (cntr[0], cntr[1]), cv.FONT_HERSHEY_SIMPLEX, 0.5, (0,0,0), 1, cv.LINE_AA)\n",
    " \n",
    "  return str(-int(np.rad2deg(angle)) - 90)\n",
    " \n",
    "# Load the image\n",
    "img = cv.imread(\"KIMIA-99/tool12.png\")\n",
    "input_img = img\n",
    "# Was the image there?\n",
    "if img is None:\n",
    "  print(\"Error: File not found\")\n",
    "  exit(0)\n",
    " \n",
    "# cv.imshow('Input Image', img)\n",
    " \n",
    "# Convert image to grayscale\n",
    "gray = cv.cvtColor(img, cv.COLOR_BGR2GRAY)\n",
    " \n",
    "# Convert image to binary\n",
    "_, bw = cv.threshold(gray, 50, 255, cv.THRESH_BINARY | cv.THRESH_OTSU)\n",
    " \n",
    "# Find all the contours in the thresholded image\n",
    "contours, _ = cv.findContours(bw, cv.RETR_LIST, cv.CHAIN_APPROX_NONE)\n",
    "curr = 0\n",
    "ans = 0\n",
    "for i, c in enumerate(contours):\n",
    " \n",
    "  # Calculate the area of each contour\n",
    "  area = cv.contourArea(c)\n",
    " \n",
    "  # Ignore contours that are too small or too large\n",
    "  if 10000 < area:\n",
    "    continue\n",
    "      \n",
    "  # Draw each contour only for visualisation purposes\n",
    "  cv.drawContours(img, contours, i, (0, 0, 255), 2)\n",
    " \n",
    "  # Find the orientation of each shape\n",
    "  k = getOrientation(c, img)\n",
    "  print(area)\n",
    "  if area > curr:\n",
    "      curr = area\n",
    "      ans = k\n",
    "      \n",
    "print('Answer')\n",
    "print(ans)\n",
    "\n",
    "folder_path = \"KIMIA-99\"\n",
    "\n",
    "# Create a directory to save the processed images if it doesn't exist\n",
    "output_folder = \"output_images\"\n",
    "inv_output_folder = \"inv_images\"\n",
    "if not os.path.exists(output_folder):\n",
    "    os.makedirs(output_folder)\n",
    "\n",
    "# Initialize a list to store the processed images\n",
    "processed_images = []\n",
    "\n",
    "# Iterate through all PNG files in the folder\n",
    "for filename in os.listdir(folder_path):\n",
    "    if filename.endswith(\".png\"):\n",
    "        file_path = os.path.join(folder_path, filename)\n",
    "        \n",
    "        img = cv.imread(file_path)\n",
    "\n",
    "        # Was the image there?\n",
    "        if img is None:\n",
    "            print(f\"Error: File not found - {filename}\")\n",
    "            continue\n",
    "\n",
    "        # cv.imshow('Input Image', img)\n",
    "\n",
    "        # Convert image to grayscale\n",
    "        gray = cv.cvtColor(img, cv.COLOR_BGR2GRAY)\n",
    "\n",
    "        # Convert image to binary\n",
    "        _, bw = cv.threshold(gray, 50, 255, cv.THRESH_BINARY | cv.THRESH_OTSU)\n",
    "\n",
    "        # Find all the contours in the thresholded image\n",
    "        contours, _ = cv.findContours(bw, cv.RETR_LIST, cv.CHAIN_APPROX_NONE)\n",
    "        curr = 0\n",
    "        ans1 = 0\n",
    "        for i, c in enumerate(contours):\n",
    "\n",
    "            # Calculate the area of each contour\n",
    "            area = cv.contourArea(c)\n",
    "\n",
    "            # Ignore contours that are too small or too large\n",
    "            if 10000 < area:\n",
    "                continue\n",
    "\n",
    "            # Draw each contour only for visualization purposes\n",
    "            cv.drawContours(img, contours, i, (0, 0, 255), 2)\n",
    "\n",
    "            # Find the orientation of each shape\n",
    "            k = getOrientation(c, img)\n",
    "            print(f\"Area for {filename}: {area}\")\n",
    "            if area > curr:\n",
    "                curr = area\n",
    "                ans1 = k\n",
    "        angle = int(ans) - int(ans1)\n",
    "        original_image = Image.open(file_path)\n",
    "        rot = original_image.rotate(angle)\n",
    "        output_file_path = os.path.join(output_folder, filename)\n",
    "        rot.save(output_file_path)\n",
    "        processed_images.append((filename, output_file_path))\n",
    "\n",
    "# Close OpenCV windows after processing\n",
    "cv.destroyAllWindows()\n",
    "\n",
    "# Display all processed images with labels\n",
    "for filename, img_path in processed_images:\n",
    "    img = Image.open(img_path)\n",
    "    plt.figure()\n",
    "    plt.title(filename)\n",
    "    plt.imshow(img)\n",
    "    plt.axis('off')\n",
    "\n",
    "plt.show()"
   ]
  },
  {
   "cell_type": "markdown",
   "metadata": {},
   "source": [
    "# 4.2 - Hierarchial Clustering "
   ]
  },
  {
   "cell_type": "code",
   "execution_count": null,
   "metadata": {},
   "outputs": [],
   "source": []
  },
  {
   "cell_type": "markdown",
   "metadata": {},
   "source": [
    "# 4.3 - Guassian Mixture Models"
   ]
  },
  {
   "cell_type": "code",
   "execution_count": 3,
   "metadata": {},
   "outputs": [
    {
     "data": {
      "text/plain": [
       "<matplotlib.collections.PathCollection at 0x7f0804ef0a60>"
      ]
     },
     "execution_count": 3,
     "metadata": {},
     "output_type": "execute_result"
    },
    {
     "data": {
      "image/png": "[encoded data removed]",
      "text/plain": [
       "<Figure size 640x480 with 1 Axes>"
      ]
     },
     "metadata": {},
     "output_type": "display_data"
    }
   ],
   "source": [
    "\n",
    "from sklearn.mixture import GaussianMixture\n",
    "with open('colors.pkl', 'rb') as f:\n",
    "    data = np.array(pickle.load(f))\n",
    "\n",
    "X = data\n",
    "gm = GaussianMixture(n_components=7, random_state=0).fit(X)\n",
    "labels = gm.predict(X)\n",
    "plt.scatter(X[:, 0], X[:, 1], c=labels, s=40, cmap='viridis')"
   ]
  },
  {
   "cell_type": "code",
   "execution_count": 11,
   "metadata": {},
   "outputs": [
    {
     "name": "stderr",
     "output_type": "stream",
     "text": [
      "/tmp/ipykernel_56408/874171567.py:14: UserWarning: No data for colormapping provided via 'c'. Parameters 'cmap' will be ignored\n",
      "  plt.scatter(new_dataset[:, 0], new_dataset[:, 1], s=40, cmap='viridis')\n"
     ]
    },
    {
     "data": {
      "image/png": "[encoded data removed]",
      "text/plain": [
       "<Figure size 1200x600 with 2 Axes>"
      ]
     },
     "metadata": {},
     "output_type": "display_data"
    }
   ],
   "source": [
    "def generate_dataset(number_of_components,means,covariances,num_samples=1000):\n",
    "    new_dataset = []\n",
    "    for component in range(number_of_components):\n",
    "        new_dataset.append(np.random.multivariate_normal(means[component],covariances[component],num_samples))\n",
    "    return np.vstack(new_dataset)\n",
    "\n",
    "new_dataset = generate_dataset(7,gm.means_,gm.covariances_)\n",
    "plt.figure(figsize=(12, 6))\n",
    "plt.subplot(1, 2, 1)\n",
    "plt.scatter(X[:, 0], X[:, 1], c=labels, s=40, cmap='viridis')\n",
    "plt.title('Original Data')\n",
    "\n",
    "plt.subplot(1, 2, 2)\n",
    "plt.scatter(new_dataset[:, 0], new_dataset[:, 1], s=40, cmap='viridis')\n",
    "plt.title('Generated Sample Data')\n",
    "\n",
    "plt.tight_layout()\n",
    "plt.show()"
   ]
  }
 ],
 "metadata": {
  "kernelspec": {
   "display_name": "Python 3",
   "language": "python",
   "name": "python3"
  },
  "language_info": {
   "codemirror_mode": {
    "name": "ipython",
    "version": 3
   },
   "file_extension": ".py",
   "mimetype": "text/x-python",
   "name": "python",
   "nbconvert_exporter": "python",
   "pygments_lexer": "ipython3",
   "version": "3.8.10"
  },
  "orig_nbformat": 4
 },
 "nbformat": 4,
 "nbformat_minor": 2
}
